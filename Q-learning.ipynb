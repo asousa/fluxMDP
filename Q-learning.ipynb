{
 "cells": [
  {
   "cell_type": "code",
   "execution_count": 1,
   "metadata": {
    "collapsed": false
   },
   "outputs": [
    {
     "name": "stderr",
     "output_type": "stream",
     "text": [
      "/Users/austin/miniconda/lib/python2.7/site-packages/matplotlib/__init__.py:872: UserWarning: text.fontsize is deprecated and replaced with font.size; please use the latter.\n",
      "  warnings.warn(self.msg_depr % (key, alt_key))\n"
     ]
    }
   ],
   "source": [
    "# Flux at spacecraft:\n",
    "import numpy as np\n",
    "import pickle\n",
    "from build_database import flux_obj\n",
    "from scipy import interpolate\n",
    "from matplotlib import pyplot as plt\n",
    "from GLD_file_tools import GLD_file_tools\n",
    "from satellite import Satellite\n",
    "import datetime\n",
    "import ephem\n",
    "from coordinate_structure import coordinate_structure\n",
    "from coordinate_structure import transform_coords\n",
    "from longitude_scaling import longitude_scaling\n",
    "from ionoAbsorp import ionoAbsorp\n",
    "import os\n",
    "from mpl_toolkits.basemap import Basemap\n",
    "from precip_model import precip_model\n",
    "import itertools\n",
    "from measurement_model import measurement_model\n",
    "import random\n",
    "\n",
    "%matplotlib inline\n",
    "\n",
    "# --------------- Latex Plot Beautification --------------------------\n",
    "fig_width_pt = 650.0  # Get this from LaTeX using \\showthe\\columnwidth\n",
    "inches_per_pt = 1.0/72.27               # Convert pt to inch\n",
    "golden_mean = (np.sqrt(5)-1.0)/2.0         # Aesthetic ratio\n",
    "fig_width = fig_width_pt*inches_per_pt  # width in inches\n",
    "fig_height = fig_width*golden_mean      # height in inches\n",
    "fig_size =  [fig_width+1,fig_height+1]\n",
    "params = {'backend': 'ps',\n",
    "          'axes.labelsize': 14,\n",
    "          'text.fontsize': 14,\n",
    "          'legend.fontsize': 10,\n",
    "          'xtick.labelsize': 10,\n",
    "          'ytick.labelsize': 10,\n",
    "          'text.usetex': False,\n",
    "          'figure.figsize': fig_size}\n",
    "plt.rcParams.update(params)\n",
    "# --------------- Latex Plot Beautification --------------------------"
   ]
  },
  {
   "cell_type": "code",
   "execution_count": 2,
   "metadata": {
    "collapsed": false
   },
   "outputs": [],
   "source": [
    "def time_bin(time_bins, time, lon):\n",
    "    '''Coarsely bin into a local time of day, with the idea that\n",
    "        lightning has some hourly time dependence (i.e., rarely lightning in the morning)\n",
    "    '''\n",
    "#    time_bins = np.linspace(0,23,4)  # Vector of times to quantize to\n",
    "    d = lon*24/360                   # Hour shift in longitude    \n",
    "\n",
    "    # Local time, in fractional hours\n",
    "    LT = time.hour + np.sign(d)*time.minute/60.0 + d\n",
    "    \n",
    "    # Did we loop around a day?\n",
    "    if LT < 0:\n",
    "        LT += 24\n",
    "    if LT >= 24:\n",
    "        LT -= 24\n",
    "\n",
    "    # Quantize, return\n",
    "    return find_idx_nearest_val(time_bins, LT)\n",
    "    \n",
    "#time_bins = np.linspace(0,24,4) - 4\n",
    "#print time_bins\n",
    "\n",
    "#print [time_bin(cur_time,l) for l in np.linspace(-180,180,10)]\n",
    "\n",
    "def find_idx_nearest_val(array, value):\n",
    "    '''Returns the index of the value in the array closest to the given value. For variable quantization!'''\n",
    "    idx_sorted = np.argsort(array)\n",
    "    sorted_array = np.array(array[idx_sorted])\n",
    "    idx = np.searchsorted(sorted_array, value, side=\"left\")\n",
    "    if idx >= len(array):\n",
    "        idx_nearest = idx_sorted[len(array)-1]\n",
    "        return idx_nearest\n",
    "    elif idx == 0:\n",
    "        idx_nearest = idx_sorted[0]\n",
    "        return idx_nearest\n",
    "    else:\n",
    "        if abs(value - sorted_array[idx-1]) < abs(value - sorted_array[idx]):\n",
    "            idx_nearest = idx_sorted[idx-1]\n",
    "            return idx_nearest\n",
    "        else:\n",
    "            idx_nearest = idx_sorted[idx]\n",
    "            return idx_nearest\n",
    "\n",
    "# arr = np.linspace(1,10,5)\n",
    "# print arr\n",
    "\n",
    "# print find_idx_nearest_val(arr, 7.78)"
   ]
  },
  {
   "cell_type": "code",
   "execution_count": 3,
   "metadata": {
    "collapsed": false
   },
   "outputs": [],
   "source": [
    "    GLD_root  = 'alex/array/home/Vaisala/feed_data/GLD'\n",
    "    NLDN_root = 'alex/array/home/Vaisala/feed_data/NLDN'\n",
    "\n",
    "    sat_TLE  = [\"1 40378U 15003C   15293.75287141  .00010129  00000-0  48835-3 0  9990\",\n",
    "                \"2 40378  99.1043 350.5299 0153633 201.4233 158.0516 15.09095095 39471\"]\n",
    "\n",
    "    # Satellite object:\n",
    "    sat = Satellite(sat_TLE[0], sat_TLE[1],'Firebird 4')\n",
    "\n",
    "    # Measurement object:\n",
    "    f = measurement_model(database = \"database_saturday.pkl\", multiple_bands = True)\n",
    "\n",
    "    # ---- Do The Thing:\n",
    "    inTime = \"2015-11-01T00:45:00\"\n",
    "    plottime = datetime.datetime.strptime(inTime,  \"%Y-%m-%dT%H:%M:%S\")\n",
    "\n",
    "    sat.compute(plottime)\n",
    "    sat.coords.transform_to('geomagnetic')\n",
    "\n",
    "#     # bands is a list of energy bands to sample at (depending on database, 1 thru 8)\n",
    "#     print \"From banded measurement (all on):\"\n",
    "#     print f.get_measurement(plottime, sat.coords, mode='banded',bands=f.m.E_bands)\n",
    "#     print \"From single measurement:\"\n",
    "#     print f.get_measurement(plottime, sat.coords, mode='continuous',bands=f.m.E_bands)"
   ]
  },
  {
   "cell_type": "code",
   "execution_count": 6,
   "metadata": {
    "collapsed": false,
    "scrolled": true
   },
   "outputs": [
    {
     "name": "stdout",
     "output_type": "stream",
     "text": [
      "(91, 181, 2)\n",
      "2015-11-01 00:00:30\n",
      "Starting run from  2015-11-01T00:00:00\n",
      "[[-60.053489691834216, -148.78594769039327, datetime.datetime(2015, 11, 1, 0, 0), 0], 0]\n",
      "[[-61.958735758548805, -149.36464052863022, datetime.datetime(2015, 11, 1, 0, 0, 30), 0], 0]\n",
      "[[-63.860267919063602, -150.00496414933809, datetime.datetime(2015, 11, 1, 0, 1), 1], 60.464634568743605]\n",
      "[[-65.757652446549216, -150.72117101319262, datetime.datetime(2015, 11, 1, 0, 1, 30), 1], 1.140431214512531]\n",
      "[[-67.650331553129192, -151.53228746649467, datetime.datetime(2015, 11, 1, 0, 2), 1], 0.096637526212909525]\n",
      "[[-69.537552296617818, -152.46422767390064, datetime.datetime(2015, 11, 1, 0, 2, 30), 1], 0.063986511511638616]\n",
      "[[-71.418252689575695, -153.55317797248648, datetime.datetime(2015, 11, 1, 0, 3), 1], -0.0001]\n",
      "[[-73.290913452313433, -154.85113570684643, datetime.datetime(2015, 11, 1, 0, 3, 30), 0], 0]\n",
      "[[-75.153268859782713, -156.43558978335452, datetime.datetime(2015, 11, 1, 0, 4), 1], -0.0001]\n",
      "[[-77.001772111505346, -158.42664940140995, datetime.datetime(2015, 11, 1, 0, 4, 30), 1], -0.0001]\n"
     ]
    },
    {
     "data": {
      "image/png": "[encoded data removed]",
      "text/plain": [
       "<matplotlib.figure.Figure at 0x111146750>"
      ]
     },
     "metadata": {},
     "output_type": "display_data"
    }
   ],
   "source": [
    "# State space: (Lat, Lon, Local Time, Sampling Mode)\n",
    "\n",
    "gLats  = np.linspace(-90,90,91)\n",
    "gLons  = np.linspace(-180,180,181)\n",
    "gTimes = np.linspace(0,23,4)\n",
    "gActs  = ['off', 'continuous']\n",
    "\n",
    "# def lat_index(lat):\n",
    "#     offset = 89\n",
    "#     return int(np.round(lat) + offset)\n",
    "\n",
    "# def lon_index(lon):\n",
    "#     offset = 179\n",
    "#     return int(np.round(lon) + offset)\n",
    "\n",
    "\n",
    "\n",
    "storage_penalty = 1e-4 #1e-6  # Penalty for taking data (tunable)\n",
    "alpha = 0.9\n",
    "gamma = 0.1\n",
    "\n",
    "# Simplest case -- learn a policy given lat, lon only:\n",
    "Q = np.zeros([np.size(gLats), np.size(gLons), len(gActs)])\n",
    "print np.shape(Q)\n",
    "\n",
    "tStep = datetime.timedelta(seconds=30)\n",
    "\n",
    "\n",
    "start_time = \"2015-11-01T00:00:00\"\n",
    "cur_time = datetime.datetime.strptime(start_time,\"%Y-%m-%dT%H:%M:%S\")\n",
    "print cur_time + tStep\n",
    "\n",
    "sat.compute(cur_time)\n",
    "geo_lon = sat.coords.lon()\n",
    "sat.coords.transform_to('geomagnetic')\n",
    "\n",
    "# Start a file to periodically dump entries to:\n",
    "odb = dict()\n",
    "odb['lats']    = gLats\n",
    "odb['lons']    = gLons\n",
    "odb['times']   = gTimes\n",
    "odb['actions'] = gActs\n",
    "\n",
    "with open('odb.pkl','wb') as file:\n",
    "    pickle.dump(odb, file)\n",
    "\n",
    "\n",
    "reward_table = []\n",
    "\n",
    "\n",
    "# --------- Basic Q Learning routine:\n",
    "\n",
    "print \"Starting run from \", start_time\n",
    "for i in range(10):\n",
    "\n",
    "\n",
    "    # select an action\n",
    "    action = random.choice(gActs)\n",
    "\n",
    "    # take a measurement\n",
    "    if action =='off':\n",
    "        reward = 0\n",
    "    else:\n",
    "        meas = f.get_measurement(cur_time, sat.coords, mode=action)\n",
    "        reward = meas*1e4 - storage_penalty*(action not in ['off'])\n",
    "    #print reward\n",
    "    #print sat.coords.lat(), sat.coords.lon()\n",
    "\n",
    "\n",
    "    #cur_state = [np.int(np.round(sat.coords.lat())), np.int(np.round(sat.coords.lon())), gActs.index(action)]\n",
    "    cur_ind = [find_idx_nearest_val(gLats,sat.coords.lat())[0],\n",
    "                 find_idx_nearest_val(gLons,sat.coords.lon())[0],\n",
    "                 time_bin(gTimes, cur_time, geo_lon),\n",
    "                 gActs.index(action)]\n",
    "    #print cur_ind[2]\n",
    "    \n",
    "#    cur_ind = [lat_index(sat.coords.lat()), lon_index(sat.coords.lon()), gActs.index(action)]\n",
    "    \n",
    "    #print cur_state\n",
    "    #print cur_ind\n",
    "#     print lat_index(sat.coords.lat())\n",
    "#     print lon_index(sat.coords.lon())\n",
    "    cur_state_continuous = [sat.coords.lat()[0], sat.coords.lon()[0], cur_time,  gActs.index(action)]\n",
    "    \n",
    "    #print cur_state\n",
    "    \n",
    "    # increment timestep:\n",
    "    cur_time += tStep\n",
    "    \n",
    "    # Update satellite position for t+1:\n",
    "    sat.compute(cur_time)\n",
    "    geo_lon = sat.coords.lon()  # Save geographic longitude for time binning on the next iteration\n",
    "    sat.coords.transform_to('geomagnetic')\n",
    "    \n",
    "    # Get max{a} Q(t+1,a):\n",
    "    Qmax = np.max(Q[np.int(sat.coords.lat()), int(sat.coords.lon()), :], 0)\n",
    "    \n",
    "    # Get Q(t,a)\n",
    "    \n",
    "    \n",
    "    Qcur = Q[cur_ind[0], cur_ind[1], cur_ind[3]]\n",
    "\n",
    "    # update Q    \n",
    "    Q[cur_ind[0], cur_ind[1], cur_ind[3]] += alpha*(reward + gamma*Qmax - Qcur)\n",
    "    \n",
    "    \n",
    "    # Store the current state, action, and reward\n",
    "    cv = [cur_state_continuous, reward]\n",
    "    print cv\n",
    "    reward_table.append(cv)\n",
    "    \n",
    "    if np.mod(i,100) == 0:\n",
    "        with open('odb.pkl','wb') as file:\n",
    "            pickle.dump(reward_table,file)\n",
    "            reward_table = []\n",
    "\n",
    "        plt.pcolor(gLons, gLats, Q[:,:,0])\n",
    "    \n",
    "    \n",
    "    "
   ]
  },
  {
   "cell_type": "code",
   "execution_count": null,
   "metadata": {
    "collapsed": false
   },
   "outputs": [],
   "source": []
  },
  {
   "cell_type": "code",
   "execution_count": 7,
   "metadata": {
    "collapsed": false,
    "scrolled": true
   },
   "outputs": [
    {
     "ename": "IndexError",
     "evalue": "index 1 is out of bounds for axis 2 with size 1",
     "output_type": "error",
     "traceback": [
      "\u001b[0;31m---------------------------------------------------------------------------\u001b[0m",
      "\u001b[0;31mIndexError\u001b[0m                                Traceback (most recent call last)",
      "\u001b[0;32m<ipython-input-7-a05567a395de>\u001b[0m in \u001b[0;36m<module>\u001b[0;34m()\u001b[0m\n\u001b[1;32m      1\u001b[0m \u001b[0;31m#print Q[cur_ind[0], cur_ind[1], cur_ind[2]]\u001b[0m\u001b[0;34m\u001b[0m\u001b[0;34m\u001b[0m\u001b[0m\n\u001b[1;32m      2\u001b[0m \u001b[0;32mfor\u001b[0m \u001b[0mi\u001b[0m \u001b[0;32min\u001b[0m \u001b[0mrange\u001b[0m\u001b[0;34m(\u001b[0m\u001b[0;36m4\u001b[0m\u001b[0;34m)\u001b[0m\u001b[0;34m:\u001b[0m\u001b[0;34m\u001b[0m\u001b[0m\n\u001b[0;32m----> 3\u001b[0;31m     \u001b[0mplt\u001b[0m\u001b[0;34m.\u001b[0m\u001b[0mpcolor\u001b[0m\u001b[0;34m(\u001b[0m\u001b[0mgLons\u001b[0m\u001b[0;34m,\u001b[0m \u001b[0mgLats\u001b[0m\u001b[0;34m,\u001b[0m \u001b[0mQ\u001b[0m\u001b[0;34m[\u001b[0m\u001b[0;34m:\u001b[0m\u001b[0;34m,\u001b[0m\u001b[0;34m:\u001b[0m\u001b[0;34m,\u001b[0m\u001b[0mi\u001b[0m\u001b[0;34m]\u001b[0m\u001b[0;34m)\u001b[0m\u001b[0;34m\u001b[0m\u001b[0m\n\u001b[0m",
      "\u001b[0;31mIndexError\u001b[0m: index 1 is out of bounds for axis 2 with size 1"
     ]
    },
    {
     "data": {
      "image/png": "[encoded data removed]",
      "text/plain": [
       "<matplotlib.figure.Figure at 0x10f967c10>"
      ]
     },
     "metadata": {},
     "output_type": "display_data"
    }
   ],
   "source": [
    "#print Q[cur_ind[0], cur_ind[1], cur_ind[2]]\n",
    "for i in range(4):\n",
    "    plt.pcolor(gLons, gLats, Q[:,:,i])"
   ]
  },
  {
   "cell_type": "code",
   "execution_count": 93,
   "metadata": {
    "collapsed": false
   },
   "outputs": [
    {
     "ename": "ValueError",
     "evalue": "Buffer has wrong number of dimensions (expected 2, got 1)",
     "output_type": "error",
     "traceback": [
      "\u001b[0;31m---------------------------------------------------------------------------\u001b[0m",
      "\u001b[0;31mValueError\u001b[0m                                Traceback (most recent call last)",
      "\u001b[0;32m<ipython-input-93-6d7127e57164>\u001b[0m in \u001b[0;36m<module>\u001b[0;34m()\u001b[0m\n\u001b[1;32m     37\u001b[0m \u001b[0;31m#    print (x,y)\u001b[0m\u001b[0;34m\u001b[0m\u001b[0;34m\u001b[0m\u001b[0m\n\u001b[1;32m     38\u001b[0m \u001b[0;34m\u001b[0m\u001b[0m\n\u001b[0;32m---> 39\u001b[0;31m \u001b[0mtree\u001b[0m \u001b[0;34m=\u001b[0m \u001b[0mInvdisttree\u001b[0m\u001b[0;34m(\u001b[0m\u001b[0minds\u001b[0m\u001b[0;34m,\u001b[0m\u001b[0mvals\u001b[0m\u001b[0;34m)\u001b[0m\u001b[0;34m\u001b[0m\u001b[0m\n\u001b[0m",
      "\u001b[0;32m<ipython-input-93-6d7127e57164>\u001b[0m in \u001b[0;36m__init__\u001b[0;34m(self, X, z, leafsize)\u001b[0m\n\u001b[1;32m     10\u001b[0m     \"\"\"\n\u001b[1;32m     11\u001b[0m     \u001b[0;32mdef\u001b[0m \u001b[0m__init__\u001b[0m\u001b[0;34m(\u001b[0m \u001b[0mself\u001b[0m\u001b[0;34m,\u001b[0m \u001b[0mX\u001b[0m\u001b[0;34m,\u001b[0m \u001b[0mz\u001b[0m\u001b[0;34m,\u001b[0m \u001b[0mleafsize\u001b[0m\u001b[0;34m=\u001b[0m\u001b[0;36m10\u001b[0m \u001b[0;34m)\u001b[0m\u001b[0;34m:\u001b[0m\u001b[0;34m\u001b[0m\u001b[0m\n\u001b[0;32m---> 12\u001b[0;31m         \u001b[0mself\u001b[0m\u001b[0;34m.\u001b[0m\u001b[0mtree\u001b[0m \u001b[0;34m=\u001b[0m \u001b[0mKDTree\u001b[0m\u001b[0;34m(\u001b[0m \u001b[0mX\u001b[0m\u001b[0;34m,\u001b[0m \u001b[0mleafsize\u001b[0m\u001b[0;34m=\u001b[0m\u001b[0mleafsize\u001b[0m \u001b[0;34m)\u001b[0m  \u001b[0;31m# build thetree\u001b[0m\u001b[0;34m\u001b[0m\u001b[0m\n\u001b[0m\u001b[1;32m     13\u001b[0m         \u001b[0mself\u001b[0m\u001b[0;34m.\u001b[0m\u001b[0mz\u001b[0m \u001b[0;34m=\u001b[0m \u001b[0mz\u001b[0m\u001b[0;34m\u001b[0m\u001b[0m\n\u001b[1;32m     14\u001b[0m \u001b[0;34m\u001b[0m\u001b[0m\n",
      "\u001b[0;32mckdtree.pyx\u001b[0m in \u001b[0;36mckdtree.cKDTree.__init__ (scipy/spatial/ckdtree/ckdtree.cxx:7509)\u001b[0;34m()\u001b[0m\n",
      "\u001b[0;31mValueError\u001b[0m: Buffer has wrong number of dimensions (expected 2, got 1)"
     ]
    }
   ],
   "source": [
    "import numpy as np\n",
    "from scipy.spatial import cKDTree as KDTree\n",
    "\n",
    "class Invdisttree:\n",
    "    \"\"\" inverse-distance-weighted interpolation using KDTree:\n",
    "    invdisttree = Invdisttree( X, z )  -- points, values\n",
    "    interpol = invdisttree( q, k=6, eps=0 )\n",
    "        -- interpolate z from the 6 points nearest each q;\n",
    "           q may be one point, or a batch of points\n",
    "    \"\"\"\n",
    "    def __init__( self, X, z, leafsize=10 ):\n",
    "        self.tree = KDTree( X, leafsize=leafsize )  # build thetree\n",
    "        self.z = z\n",
    "\n",
    "    def __call__( self, q, k=6, eps=0 ):\n",
    "            # k nearest neighbours of each query point --\n",
    "        self.distances, self.ix = self.tree.query( q, k=k,eps=eps )\n",
    "        interpol = []  # np.zeros( (len(self.distances),) + np.shape(z[0]) )\n",
    "        for dist, ix in zip( self.distances, self.ix ):\n",
    "            if dist[0] > 1e-10:\n",
    "                w = 1 / dist\n",
    "                wz = np.dot( w, self.z[ix] ) / np.sum(w)  # weightz s by 1/dist\n",
    "            else:\n",
    "                wz = self.z[ix[0]]\n",
    "            interpol.append( wz )\n",
    "        return interpol\n",
    "\n",
    "\n",
    "    \n",
    "i = 0\n",
    "inds = []\n",
    "vals = []\n",
    "for x, y in itertools.product(*[gLons, gLats]):\n",
    "    inds.append(i)\n",
    "    i+=1\n",
    "    vals.append([x,y])\n"
   ]
  },
  {
   "cell_type": "code",
   "execution_count": 59,
   "metadata": {
    "collapsed": false
   },
   "outputs": [
    {
     "name": "stdout",
     "output_type": "stream",
     "text": [
      "(181, 91)\n",
      "[-180. -178. -176. -174. -172. -170. -168. -166. -164. -162. -160. -158.\n",
      " -156. -154. -152. -150. -148. -146. -144. -142. -140. -138. -136. -134.\n",
      " -132. -130. -128. -126. -124. -122. -120. -118. -116. -114. -112. -110.\n",
      " -108. -106. -104. -102. -100.  -98.  -96.  -94.  -92.  -90.  -88.  -86.\n",
      "  -84.  -82.  -80.  -78.  -76.  -74.  -72.  -70.  -68.  -66.  -64.  -62.\n",
      "  -60.  -58.  -56.  -54.  -52.  -50.  -48.  -46.  -44.  -42.  -40.  -38.\n",
      "  -36.  -34.  -32.  -30.  -28.  -26.  -24.  -22.  -20.  -18.  -16.  -14.\n",
      "  -12.  -10.   -8.   -6.   -4.   -2.    0.]\n"
     ]
    }
   ],
   "source": [
    "import scipy.spatial\n",
    "\n",
    "\n",
    "cur_state_continuous\n",
    "\n",
    "xv, yv = np.meshgrid(gLons, gLats)\n",
    "\n",
    "g = np.empty([np.size(gLons), np.size(gLats)])\n",
    "print np.shape(g)\n",
    "for xi, x in enumerate(gLons):\n",
    "    #print xi, x\n",
    "    for yi, y in enumerate(gLats):\n",
    "        None #print xi, yi\n",
    "#        g[xi,yi] = np.array([x,y])\n",
    "print g[0,:]"
   ]
  },
  {
   "cell_type": "code",
   "execution_count": 96,
   "metadata": {
    "collapsed": false
   },
   "outputs": [
    {
     "name": "stderr",
     "output_type": "stream",
     "text": [
      "/Users/austin/miniconda/lib/python2.7/site-packages/ipykernel/__main__.py:5: DeprecationWarning: using a non-integer number instead of an integer will result in an error in the future\n"
     ]
    },
    {
     "ename": "IndexError",
     "evalue": "only integers, slices (`:`), ellipsis (`...`), numpy.newaxis (`None`) and integer or boolean arrays are valid indices",
     "output_type": "error",
     "traceback": [
      "\u001b[0;31m---------------------------------------------------------------------------\u001b[0m",
      "\u001b[0;31mIndexError\u001b[0m                                Traceback (most recent call last)",
      "\u001b[0;32m<ipython-input-97-1f217567d0ef>\u001b[0m in \u001b[0;36m<module>\u001b[0;34m()\u001b[0m\n\u001b[1;32m      3\u001b[0m \u001b[0mfig\u001b[0m\u001b[0;34m,\u001b[0m \u001b[0max\u001b[0m \u001b[0;34m=\u001b[0m \u001b[0mplt\u001b[0m\u001b[0;34m.\u001b[0m\u001b[0msubplots\u001b[0m\u001b[0;34m(\u001b[0m\u001b[0;36m211\u001b[0m\u001b[0;34m)\u001b[0m\u001b[0;34m\u001b[0m\u001b[0m\n\u001b[1;32m      4\u001b[0m \u001b[0;32mfor\u001b[0m \u001b[0ma\u001b[0m \u001b[0;32min\u001b[0m \u001b[0menumerate\u001b[0m\u001b[0;34m(\u001b[0m\u001b[0max\u001b[0m\u001b[0;34m)\u001b[0m\u001b[0;34m:\u001b[0m\u001b[0;34m\u001b[0m\u001b[0m\n\u001b[0;32m----> 5\u001b[0;31m     \u001b[0max\u001b[0m\u001b[0;34m[\u001b[0m\u001b[0ma\u001b[0m\u001b[0;34m]\u001b[0m\u001b[0;34m.\u001b[0m\u001b[0mpcolor\u001b[0m\u001b[0;34m(\u001b[0m\u001b[0mgLons\u001b[0m\u001b[0;34m,\u001b[0m \u001b[0mgLats\u001b[0m\u001b[0;34m,\u001b[0m \u001b[0mQ\u001b[0m\u001b[0;34m[\u001b[0m\u001b[0;34m:\u001b[0m\u001b[0;34m,\u001b[0m\u001b[0;34m:\u001b[0m\u001b[0;34m,\u001b[0m\u001b[0ma\u001b[0m\u001b[0;34m]\u001b[0m\u001b[0;34m)\u001b[0m\u001b[0;34m\u001b[0m\u001b[0m\n\u001b[0m",
      "\u001b[0;31mIndexError\u001b[0m: only integers, slices (`:`), ellipsis (`...`), numpy.newaxis (`None`) and integer or boolean arrays are valid indices"
     ]
    },
    {
     "ename": "KeyboardInterrupt",
     "evalue": "",
     "output_type": "error",
     "traceback": [
      "Traceback (most recent call last):\n",
      "  File \"/Users/austin/miniconda/lib/python2.7/site-packages/ipykernel/ipkernel.py\", line 175, in do_execute\n    shell.run_cell(code, store_history=store_history, silent=silent)\n",
      "  File \"/Users/austin/miniconda/lib/python2.7/site-packages/IPython/core/interactiveshell.py\", line 2908, in run_cell\n    self.events.trigger('post_execute')\n",
      "  File \"/Users/austin/miniconda/lib/python2.7/site-packages/IPython/core/events.py\", line 74, in trigger\n    func(*args, **kwargs)\n",
      "  File \"/Users/austin/miniconda/lib/python2.7/site-packages/matplotlib/pyplot.py\", line 147, in post_execute\n    draw_all()\n",
      "  File \"/Users/austin/miniconda/lib/python2.7/site-packages/matplotlib/_pylab_helpers.py\", line 150, in draw_all\n    f_mgr.canvas.draw_idle()\n",
      "  File \"/Users/austin/miniconda/lib/python2.7/site-packages/matplotlib/backend_bases.py\", line 2026, in draw_idle\n    self.draw(*args, **kwargs)\n",
      "  File \"/Users/austin/miniconda/lib/python2.7/site-packages/matplotlib/backends/backend_agg.py\", line 474, in draw\n    self.figure.draw(self.renderer)\n",
      "  File \"/Users/austin/miniconda/lib/python2.7/site-packages/matplotlib/artist.py\", line 61, in draw_wrapper\n    draw(artist, renderer, *args, **kwargs)\n",
      "  File \"/Users/austin/miniconda/lib/python2.7/site-packages/matplotlib/figure.py\", line 1133, in draw\n    func(*args)\n",
      "  File \"/Users/austin/miniconda/lib/python2.7/site-packages/matplotlib/artist.py\", line 61, in draw_wrapper\n    draw(artist, renderer, *args, **kwargs)\n",
      "  File \"/Users/austin/miniconda/lib/python2.7/site-packages/matplotlib/axes/_base.py\", line 2304, in draw\n    a.draw(renderer)\n",
      "  File \"/Users/austin/miniconda/lib/python2.7/site-packages/matplotlib/artist.py\", line 61, in draw_wrapper\n    draw(artist, renderer, *args, **kwargs)\n",
      "  File \"/Users/austin/miniconda/lib/python2.7/site-packages/matplotlib/axis.py\", line 1111, in draw\n    tick.draw(renderer)\n",
      "  File \"/Users/austin/miniconda/lib/python2.7/site-packages/matplotlib/artist.py\", line 61, in draw_wrapper\n    draw(artist, renderer, *args, **kwargs)\n",
      "  File \"/Users/austin/miniconda/lib/python2.7/site-packages/matplotlib/axis.py\", line 252, in draw\n    self.label1.draw(renderer)\n",
      "  File \"/Users/austin/miniconda/lib/python2.7/site-packages/matplotlib/artist.py\", line 61, in draw_wrapper\n    draw(artist, renderer, *args, **kwargs)\n",
      "  File \"/Users/austin/miniconda/lib/python2.7/site-packages/matplotlib/text.py\", line 796, in draw\n    ismath=ismath, mtext=mtext)\n",
      "  File \"/Users/austin/miniconda/lib/python2.7/site-packages/matplotlib/backends/backend_agg.py\", line 200, in draw_text\n    font.set_text(s, 0, flags=flags)\n",
      "KeyboardInterrupt\n"
     ]
    }
   ],
   "source": [
    "np.shape(Q)\n",
    "\n",
    "fig, ax = plt.subplots(211)\n",
    "for a in enumerate(ax):\n",
    "    ax[a].pcolor(gLons, gLats, Q[:,:,a])"
   ]
  }
 ],
 "metadata": {
  "kernelspec": {
   "display_name": "Python 2",
   "language": "python",
   "name": "python2"
  },
  "language_info": {
   "codemirror_mode": {
    "name": "ipython",
    "version": 2
   },
   "file_extension": ".py",
   "mimetype": "text/x-python",
   "name": "python",
   "nbconvert_exporter": "python",
   "pygments_lexer": "ipython2",
   "version": "2.7.10"
  }
 },
 "nbformat": 4,
 "nbformat_minor": 0
}
