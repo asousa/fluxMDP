{
 "cells": [
  {
   "cell_type": "code",
   "execution_count": 1,
   "metadata": {
    "collapsed": true
   },
   "outputs": [],
   "source": [
    "import numpy as np\n",
    "import pickle\n",
    "from build_database import flux_obj\n",
    "from scipy import interpolate\n",
    "# from sklearn.svm import SVR\n",
    "# from sklearn.svm import NuSVR\n",
    "from matplotlib import pyplot as plt\n",
    "from coordinate_structure import coordinate_structure\n",
    "from precip_model import precip_model\n",
    "%matplotlib inline"
   ]
  },
  {
   "cell_type": "code",
   "execution_count": null,
   "metadata": {
    "collapsed": true
   },
   "outputs": [],
   "source": [
    "with open('database_counts.pkl','rb') as file:\n",
    "    db = pickle.load(file)"
   ]
  },
  {
   "cell_type": "code",
   "execution_count": 15,
   "metadata": {
    "collapsed": false
   },
   "outputs": [
    {
     "name": "stdout",
     "output_type": "stream",
     "text": [
      "(11, 600, 33)\n",
      "(11, 33, 600)\n"
     ]
    },
    {
     "data": {
      "text/plain": [
       "<matplotlib.collections.PolyCollection at 0x1127884d0>"
      ]
     },
     "execution_count": 15,
     "metadata": {},
     "output_type": "execute_result"
    },
    {
     "data": {
      "image/png": "[encoded data removed]",
      "text/plain": [
       "<matplotlib.figure.Figure at 0x110b5d290>"
      ]
     },
     "metadata": {},
     "output_type": "display_data"
    }
   ],
   "source": [
    "m = precip_model(database=\"database_counts.pkl\",multiple_bands=True)\n",
    "t = np.linspace(0,30,30)\n",
    "tmp = np.array([m.get_precip_at(45,120,x,t,\"N\") for x in m.E_bands])\n",
    "\n",
    "plt.pcolor(t, m.E_bands, tmp)"
   ]
  },
  {
   "cell_type": "code",
   "execution_count": null,
   "metadata": {
    "collapsed": false
   },
   "outputs": [],
   "source": [
    "def tile_keys(key1, key2):\n",
    "    return np.vstack([np.outer(key1, np.ones(np.size(key2))), key2]).T\n",
    "\n",
    "print db.keys()\n",
    "\n",
    "in_lats = sorted(db.keys())\n",
    "obj = db[30]\n",
    "# plt.pcolor(obj.t, obj.coords.lat(),np.log10(obj.N.T))\n",
    "# plt.clim([-4,4])\n",
    "#plt.show()\n",
    "\n",
    "N = []\n",
    "for i in in_lats:\n",
    "    obj = db[i]\n",
    "    N.append(obj.N)\n",
    "\n",
    "N = np.array(N)\n",
    "N = N.swapaxes(1,2)\n",
    "print np.shape(N)\n",
    "interp = interpolate.RegularGridInterpolator((in_lats, obj.coords.lat(),obj.t), N)\n",
    "\n",
    "\n",
    "out_lats = np.linspace(30,70,60)\n",
    "res = [] #np.empty([np.size(out_lats), np.size(obj.t)])\n",
    "\n",
    "t = np.linspace(0,30,100)\n",
    "in_lat = 10\n",
    "for o in out_lats:\n",
    "    points = tile_keys((in_lat,o),t)\n",
    "    \n",
    "    res.append(interp(points))\n",
    "\n",
    "print np.shape(res)\n",
    "res = np.log10(np.array(res))\n",
    "    # print points\n",
    "# print np.shape(points)\n",
    "\n",
    "# tmp = interp(points)\n",
    "# print points[:,0]\n",
    "plt.pcolor(t, out_lats, res)\n",
    "plt.clim([-4,4])\n",
    "\n"
   ]
  },
  {
   "cell_type": "code",
   "execution_count": null,
   "metadata": {
    "collapsed": false
   },
   "outputs": [],
   "source": [
    "data = []\n",
    "\n",
    "for i in in_lats:\n",
    "    print i\n",
    "    obj = db[i]\n",
    "    data.append(obj.N)\n",
    "N = np.array(N)\n",
    "print np.shape(N)\n",
    "N = N.swapaxes(1,2)\n",
    "print np.shape(N)\n",
    "print np.shape(data)"
   ]
  }
 ],
 "metadata": {
  "kernelspec": {
   "display_name": "Python 2",
   "language": "python",
   "name": "python2"
  },
  "language_info": {
   "codemirror_mode": {
    "name": "ipython",
    "version": 2
   },
   "file_extension": ".py",
   "mimetype": "text/x-python",
   "name": "python",
   "nbconvert_exporter": "python",
   "pygments_lexer": "ipython2",
   "version": "2.7.10"
  }
 },
 "nbformat": 4,
 "nbformat_minor": 0
}
