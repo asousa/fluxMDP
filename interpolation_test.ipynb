{
 "cells": [
  {
   "cell_type": "code",
   "execution_count": 1,
   "metadata": {
    "collapsed": true
   },
   "outputs": [],
   "source": [
    "import numpy as np\n",
    "import pickle\n",
    "from build_database import flux_obj\n",
    "from scipy import interpolate\n",
    "# from sklearn.svm import SVR\n",
    "# from sklearn.svm import NuSVR\n",
    "from matplotlib import pyplot as plt\n",
    "from coordinate_structure import coordinate_structure\n",
    "from precip_model import precip_model\n",
    "%matplotlib inline"
   ]
  },
  {
   "cell_type": "code",
   "execution_count": null,
   "metadata": {
    "collapsed": true
   },
   "outputs": [],
   "source": [
    "with open('database_counts.pkl','rb') as file:\n",
    "    db = pickle.load(file)"
   ]
  },
  {
   "cell_type": "code",
   "execution_count": 10,
   "metadata": {
    "collapsed": false
   },
   "outputs": [
    {
     "ename": "AttributeError",
     "evalue": "'flux_obj' object has no attribute 'N_E'",
     "output_type": "error",
     "traceback": [
      "\u001b[0;31m---------------------------------------------------------------------------\u001b[0m",
      "\u001b[0;31mAttributeError\u001b[0m                            Traceback (most recent call last)",
      "\u001b[0;32m<ipython-input-10-ec7585f13508>\u001b[0m in \u001b[0;36m<module>\u001b[0;34m()\u001b[0m\n\u001b[0;32m----> 1\u001b[0;31m \u001b[0mm\u001b[0m \u001b[0;34m=\u001b[0m \u001b[0mprecip_model\u001b[0m\u001b[0;34m(\u001b[0m\u001b[0mdatabase\u001b[0m\u001b[0;34m=\u001b[0m\u001b[0;34m\"database_multiple.pkl\"\u001b[0m\u001b[0;34m,\u001b[0m\u001b[0mmultiple_bands\u001b[0m\u001b[0;34m=\u001b[0m\u001b[0mTrue\u001b[0m\u001b[0;34m)\u001b[0m\u001b[0;34m\u001b[0m\u001b[0m\n\u001b[0m\u001b[1;32m      2\u001b[0m \u001b[0mt\u001b[0m \u001b[0;34m=\u001b[0m \u001b[0mnp\u001b[0m\u001b[0;34m.\u001b[0m\u001b[0mlinspace\u001b[0m\u001b[0;34m(\u001b[0m\u001b[0;36m0\u001b[0m\u001b[0;34m,\u001b[0m\u001b[0;36m5\u001b[0m\u001b[0;34m,\u001b[0m\u001b[0;36m500\u001b[0m\u001b[0;34m)\u001b[0m\u001b[0;34m\u001b[0m\u001b[0m\n\u001b[1;32m      3\u001b[0m \u001b[0min_lat\u001b[0m \u001b[0;34m=\u001b[0m \u001b[0;36m40\u001b[0m\u001b[0;34m\u001b[0m\u001b[0m\n\u001b[1;32m      4\u001b[0m \u001b[0mtmp\u001b[0m \u001b[0;34m=\u001b[0m \u001b[0mnp\u001b[0m\u001b[0;34m.\u001b[0m\u001b[0marray\u001b[0m\u001b[0;34m(\u001b[0m\u001b[0;34m[\u001b[0m\u001b[0mm\u001b[0m\u001b[0;34m.\u001b[0m\u001b[0mget_multiband_precip_at\u001b[0m\u001b[0;34m(\u001b[0m\u001b[0min_lat\u001b[0m\u001b[0;34m,\u001b[0m\u001b[0;36m60\u001b[0m\u001b[0;34m,\u001b[0m\u001b[0mx\u001b[0m\u001b[0;34m,\u001b[0m\u001b[0mt\u001b[0m\u001b[0;34m,\u001b[0m\u001b[0;34m\"N\"\u001b[0m\u001b[0;34m)\u001b[0m \u001b[0;32mfor\u001b[0m \u001b[0mx\u001b[0m \u001b[0;32min\u001b[0m \u001b[0mm\u001b[0m\u001b[0;34m.\u001b[0m\u001b[0mE_bands\u001b[0m\u001b[0;34m]\u001b[0m\u001b[0;34m)\u001b[0m\u001b[0;34m\u001b[0m\u001b[0m\n\u001b[1;32m      5\u001b[0m \u001b[0mplt\u001b[0m\u001b[0;34m.\u001b[0m\u001b[0mpcolor\u001b[0m\u001b[0;34m(\u001b[0m\u001b[0mt\u001b[0m\u001b[0;34m,\u001b[0m \u001b[0mm\u001b[0m\u001b[0;34m.\u001b[0m\u001b[0mE_bands\u001b[0m\u001b[0;34m,\u001b[0m \u001b[0mtmp\u001b[0m\u001b[0;34m)\u001b[0m\u001b[0;34m\u001b[0m\u001b[0m\n",
      "\u001b[0;32m/Users/austin/Final Project/local/precip_model.py\u001b[0m in \u001b[0;36m__init__\u001b[0;34m(self, database, multiple_bands)\u001b[0m\n\u001b[1;32m     46\u001b[0m             \u001b[0;32mfor\u001b[0m \u001b[0mi\u001b[0m \u001b[0;32min\u001b[0m \u001b[0min_lats\u001b[0m\u001b[0;34m:\u001b[0m\u001b[0;34m\u001b[0m\u001b[0m\n\u001b[1;32m     47\u001b[0m                 \u001b[0mobj\u001b[0m \u001b[0;34m=\u001b[0m \u001b[0mself\u001b[0m\u001b[0;34m.\u001b[0m\u001b[0mdb\u001b[0m\u001b[0;34m[\u001b[0m\u001b[0mi\u001b[0m\u001b[0;34m]\u001b[0m\u001b[0;34m\u001b[0m\u001b[0m\n\u001b[0;32m---> 48\u001b[0;31m                 \u001b[0mN_E\u001b[0m\u001b[0;34m.\u001b[0m\u001b[0mappend\u001b[0m\u001b[0;34m(\u001b[0m\u001b[0mobj\u001b[0m\u001b[0;34m.\u001b[0m\u001b[0mN_E\u001b[0m\u001b[0;34m)\u001b[0m\u001b[0;34m\u001b[0m\u001b[0m\n\u001b[0m\u001b[1;32m     49\u001b[0m                 \u001b[0mS_E\u001b[0m\u001b[0;34m.\u001b[0m\u001b[0mappend\u001b[0m\u001b[0;34m(\u001b[0m\u001b[0mobj\u001b[0m\u001b[0;34m.\u001b[0m\u001b[0mS_E\u001b[0m\u001b[0;34m)\u001b[0m\u001b[0;34m\u001b[0m\u001b[0m\n\u001b[1;32m     50\u001b[0m \u001b[0;34m\u001b[0m\u001b[0m\n",
      "\u001b[0;31mAttributeError\u001b[0m: 'flux_obj' object has no attribute 'N_E'"
     ]
    }
   ],
   "source": [
    "m = precip_model(database=\"database_multiple.pkl\",multiple_bands=True)\n",
    "t = np.linspace(0,5,500)\n",
    "in_lat = 40\n",
    "tmp = np.array([m.get_multiband_precip_at(in_lat,60,x,t,\"N\") for x in m.E_bands])\n",
    "plt.pcolor(t, m.E_bands, tmp)\n",
    "plt.show()\n",
    "    \n",
    "tmp = np.array([m.get_precip_at(in_lat,L,t,\"N\") for L in np.linspace(10,60,128)])\n",
    "plt.pcolor(t, np.linspace(10,60,128), tmp)\n",
    "plt.show()"
   ]
  },
  {
   "cell_type": "code",
   "execution_count": null,
   "metadata": {
    "collapsed": false
   },
   "outputs": [],
   "source": [
    "def tile_keys(key1, key2):\n",
    "    return np.vstack([np.outer(key1, np.ones(np.size(key2))), key2]).T\n",
    "\n",
    "print db.keys()\n",
    "\n",
    "in_lats = sorted(db.keys())\n",
    "obj = db[30]\n",
    "# plt.pcolor(obj.t, obj.coords.lat(),np.log10(obj.N.T))\n",
    "# plt.clim([-4,4])\n",
    "#plt.show()\n",
    "\n",
    "N = []\n",
    "for i in in_lats:\n",
    "    obj = db[i]\n",
    "    N.append(obj.N)\n",
    "\n",
    "N = np.array(N)\n",
    "N = N.swapaxes(1,2)\n",
    "print np.shape(N)\n",
    "interp = interpolate.RegularGridInterpolator((in_lats, obj.coords.lat(),obj.t), N)\n",
    "\n",
    "\n",
    "out_lats = np.linspace(30,70,60)\n",
    "res = [] #np.empty([np.size(out_lats), np.size(obj.t)])\n",
    "\n",
    "t = np.linspace(0,30,100)\n",
    "in_lat = 10\n",
    "for o in out_lats:\n",
    "    points = tile_keys((in_lat,o),t)\n",
    "    \n",
    "    res.append(interp(points))\n",
    "\n",
    "print np.shape(res)\n",
    "res = np.log10(np.array(res))\n",
    "    # print points\n",
    "# print np.shape(points)\n",
    "\n",
    "# tmp = interp(points)\n",
    "# print points[:,0]\n",
    "plt.pcolor(t, out_lats, res)\n",
    "plt.clim([-4,4])\n",
    "\n"
   ]
  },
  {
   "cell_type": "code",
   "execution_count": null,
   "metadata": {
    "collapsed": false
   },
   "outputs": [],
   "source": [
    "data = []\n",
    "\n",
    "for i in in_lats:\n",
    "    print i\n",
    "    obj = db[i]\n",
    "    data.append(obj.N)\n",
    "N = np.array(N)\n",
    "print np.shape(N)\n",
    "N = N.swapaxes(1,2)\n",
    "print np.shape(N)\n",
    "print np.shape(data)"
   ]
  }
 ],
 "metadata": {
  "kernelspec": {
   "display_name": "Python 2",
   "language": "python",
   "name": "python2"
  },
  "language_info": {
   "codemirror_mode": {
    "name": "ipython",
    "version": 2
   },
   "file_extension": ".py",
   "mimetype": "text/x-python",
   "name": "python",
   "nbconvert_exporter": "python",
   "pygments_lexer": "ipython2",
   "version": "2.7.10"
  }
 },
 "nbformat": 4,
 "nbformat_minor": 0
}
