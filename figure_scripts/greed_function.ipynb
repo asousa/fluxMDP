{
 "cells": [
  {
   "cell_type": "code",
   "execution_count": 1,
   "metadata": {
    "collapsed": false
   },
   "outputs": [
    {
     "name": "stderr",
     "output_type": "stream",
     "text": [
      "/Users/austin/miniconda/lib/python2.7/site-packages/matplotlib/figure.py:1718: UserWarning: This figure includes Axes that are not compatible with tight_layout, so its results might be incorrect.\n",
      "  warnings.warn(\"This figure includes Axes that are not \"\n"
     ]
    },
    {
     "data": {
      "image/png": "[encoded data removed]",
      "text/plain": [
       "<matplotlib.figure.Figure at 0x10da0afd0>"
      ]
     },
     "metadata": {},
     "output_type": "display_data"
    }
   ],
   "source": [
    "# Plot weighting function:\n",
    "import numpy as np\n",
    "import pickle\n",
    "#from build_database import flux_obj\n",
    "#from scipy import interpolate\n",
    "from matplotlib import pyplot as plt\n",
    "from GLD_file_tools import GLD_file_tools\n",
    "from satellite import Satellite\n",
    "import datetime\n",
    "import ephem\n",
    "from coordinate_structure import coordinate_structure\n",
    "from coordinate_structure import transform_coords\n",
    "from longitude_scaling import longitude_scaling\n",
    "#from ionoAbsorp import ionoAbsorp\n",
    "import os\n",
    "from mpl_toolkits.basemap import Basemap\n",
    "from precip_model import precip_model\n",
    "from measurement_model import measurement_model\n",
    "import itertools\n",
    "import random\n",
    "import matplotlib.tri as mtri\n",
    "import matplotlib as mpl\n",
    "from fluxMDP import get_map_scaling, get_time_scaling\n",
    "from coordinate_structure import coordinate_structure\n",
    "\n",
    "\n",
    "%matplotlib inline\n",
    "\n",
    "\n",
    "# --------------- Latex Plot Beautification --------------------------\n",
    "fig_width_pt = 650.0  # Get this from LaTeX using \\showthe\\columnwidth\n",
    "inches_per_pt = 1.0/72.27               # Convert pt to inch\n",
    "golden_mean = (np.sqrt(5)-1.0)/2.0         # Aesthetic ratio\n",
    "fig_width = 2.5 #fig_width_pt*inches_per_pt  # width in inches\n",
    "fig_height = 1.2 #fig_width*golden_mean      # height in inches\n",
    "fig_size =  [fig_width+1,fig_height+1]\n",
    "params = {'backend': 'ps',\n",
    "          'axes.labelsize': 8,\n",
    "          'font.size': 8,\n",
    "          'legend.fontsize': 8,\n",
    "          'xtick.labelsize': 8,\n",
    "          'ytick.labelsize': 8,\n",
    "          'text.usetex': False,\n",
    "          'figure.figsize': fig_size,        \n",
    "          'figure.autolayout': True}\n",
    "#           'figure.subplot.left': 0.04,\n",
    "#           'figure.subplot.bottom':0.05,\n",
    "#           'figure.subplot.top':0.995,\n",
    "#           'figure.subplot.right':0.995}\n",
    "plt.rcParams.update(params)\n",
    "# --------------- Latex Plot Beautification --------------------------\n",
    "\n",
    "\n",
    "#from scaling import get_time_scaling, get_map_scaling\n",
    "# Growth-rate functions:\n",
    "\n",
    "def utc(dt_obj):\n",
    "    return (dt_obj - datetime.datetime(1970,1,1)).total_seconds()\n",
    "\n",
    "\n",
    "start_time= datetime.datetime(2015,10, 8,0,0,00)\n",
    "stop_time = datetime.datetime(2015,11,15,00,00,00)\n",
    "td = datetime.timedelta(seconds=30)\n",
    "\n",
    "cur_time = start_time\n",
    "mid_time = start_time + datetime.timedelta(days=15)\n",
    "\n",
    "greed = []\n",
    "tvec = []\n",
    "L = 0.95\n",
    "k = 0.5\n",
    "\n",
    "while cur_time < stop_time:\n",
    "    cur_time += td\n",
    "    tvec.append(cur_time)\n",
    "    #print cur_time\n",
    "    greed.append(L/(1 + np.exp(-k*((cur_time - mid_time).total_seconds()/(24*3600)))))\n",
    "\n",
    "tl = [a.isoformat() for a in tvec]    \n",
    "\n",
    "#plt.setp([a.get_xticklabels() for a in ax[0:-1]], visible=False)\n",
    "\n",
    "\n",
    "plt.plot(tvec,np.array(greed),color='r')\n",
    "plt.grid('on')\n",
    "plt.ylim([0,1])\n",
    "plt.xticks(rotation='vertical')\n",
    "plt.savefig('greed_curve.png',dpi=300)\n"
   ]
  },
  {
   "cell_type": "code",
   "execution_count": 8,
   "metadata": {
    "collapsed": false
   },
   "outputs": [
    {
     "data": {
      "text/plain": [
       "38"
      ]
     },
     "execution_count": 8,
     "metadata": {},
     "output_type": "execute_result"
    }
   ],
   "source": [
    "(stop_time - start_time).days"
   ]
  }
 ],
 "metadata": {
  "kernelspec": {
   "display_name": "Python 2",
   "language": "python",
   "name": "python2"
  },
  "language_info": {
   "codemirror_mode": {
    "name": "ipython",
    "version": 2
   },
   "file_extension": ".py",
   "mimetype": "text/x-python",
   "name": "python",
   "nbconvert_exporter": "python",
   "pygments_lexer": "ipython2",
   "version": "2.7.10"
  }
 },
 "nbformat": 4,
 "nbformat_minor": 0
}
