{
 "cells": [
  {
   "cell_type": "code",
   "execution_count": 2,
   "metadata": {
    "collapsed": false
   },
   "outputs": [],
   "source": [
    "# Flux at spacecraft:\n",
    "import numpy as np\n",
    "import pickle\n",
    "from build_database import flux_obj\n",
    "from scipy import interpolate\n",
    "from matplotlib import pyplot as plt\n",
    "from GLD_file_tools import GLD_file_tools\n",
    "from satellite import Satellite\n",
    "import datetime\n",
    "import ephem\n",
    "from coordinate_structure import coordinate_structure\n",
    "from coordinate_structure import transform_coords\n",
    "from longitude_scaling import longitude_scaling\n",
    "from ionoAbsorp import ionoAbsorp\n",
    "import os\n",
    "from mpl_toolkits.basemap import Basemap\n",
    "from precip_model import precip_model\n",
    "import itertools\n",
    "from matplotlib.widgets import Slider\n",
    "%matplotlib inline\n",
    "\n",
    "# --------------- Latex Plot Beautification --------------------------\n",
    "fig_width_pt = 650.0  # Get this from LaTeX using \\showthe\\columnwidth\n",
    "inches_per_pt = 1.0/72.27               # Convert pt to inch\n",
    "golden_mean = (np.sqrt(5)-1.0)/2.0         # Aesthetic ratio\n",
    "fig_width = fig_width_pt*inches_per_pt  # width in inches\n",
    "fig_height = fig_width*golden_mean      # height in inches\n",
    "fig_size =  [fig_width+1,fig_height+1]\n",
    "params = {'backend': 'ps',\n",
    "          'axes.labelsize': 14,\n",
    "          'text.fontsize': 14,\n",
    "          'legend.fontsize': 10,\n",
    "          'xtick.labelsize': 10,\n",
    "          'ytick.labelsize': 10,\n",
    "          'text.usetex': False,\n",
    "          'figure.figsize': fig_size}\n",
    "plt.rcParams.update(params)\n",
    "# --------------- Latex Plot Beautification --------------------------\n",
    "\n"
   ]
  },
  {
   "cell_type": "code",
   "execution_count": null,
   "metadata": {
    "collapsed": true
   },
   "outputs": [],
   "source": [
    "GLD_root  = 'alex/array/home/Vaisala/feed_data/GLD'\n",
    "NLDN_root = 'alex/array/home/Vaisala/feed_data/NLDN'\n",
    "\n",
    "sat_TLE  = [\"1 40378U 15003C   15293.75287141  .00010129  00000-0  48835-3 0  9990\",\n",
    "            \"2 40378  99.1043 350.5299 0153633 201.4233 158.0516 15.09095095 39471\"]\n",
    "\n",
    "# Satellite object\n",
    "sat = Satellite(sat_TLE[0], sat_TLE[1],'Firebird 4')\n",
    "# Lightning-gettin' object\n",
    "gld = GLD_file_tools(GLD_root, prefix='GLD')\n",
    "\n",
    "# Column ind\n",
    "lat_ind = 7;\n",
    "lon_ind = 8;\n",
    "mag_ind = 9;"
   ]
  },
  {
   "cell_type": "code",
   "execution_count": 42,
   "metadata": {
    "collapsed": false
   },
   "outputs": [],
   "source": [
    "class measurement_model(object):\n",
    "    '''Instantiate this bad boy to make precipitation measurements'''\n",
    "    \n",
    "    def __init__(self,\n",
    "                 database='database.pkl',\n",
    "                 GLD_root = 'alex/array/home/Vaisala/feed_data/GLD'):\n",
    "    \n",
    "        self.m = precip_model(database)\n",
    "        \n",
    "        self.RES_DT = self.m.db[self.m.db.keys()[0]].RES_DT\n",
    "        self.RES_FINT = self.m.db[self.m.db.keys()[0]].RES_FINT\n",
    "        \n",
    "        \n",
    "        self.td = datetime.timedelta(seconds = 60) # Maximum previous time to examine flashes in.\n",
    "        \n",
    "        # Lightning database\n",
    "        self.gld = GLD_file_tools(GLD_root, prefix='GLD')\n",
    "        # Column indices\n",
    "        self.lat_ind = 7;\n",
    "        self.lon_ind = 8;\n",
    "        self.mag_ind = 9;\n",
    "        \n",
    "    def get_measurement(self, in_time, coordinates, mode='continuous'):\n",
    "        # Get flashes within timeframe:\n",
    "        flashes, flash_times = self.gld.load_flashes(in_time, self.td)\n",
    "        flashes = flashes[:,(self.lat_ind, self.lon_ind, self.mag_ind, self.mag_ind)]\n",
    "        flash_coords = transform_coords(flashes[:,0], flashes[:,1], np.zeros_like(flashes[:,0]), 'geographic', 'geomagnetic')\n",
    "        flashes[:,:2] = flash_coords[:,:2]\n",
    "        flashes[:,3] = [(in_time - s).microseconds*1e-6 + (in_time - s).seconds for s in flash_times]\n",
    "\n",
    "        \n",
    "        # So! No we have an array of relevant flashes -- lat, lon, mag, time offset.\n",
    "        # Let's model the flux at the satellite.\n",
    "        flux = 0\n",
    "        \n",
    "        time_sampling_vector = np.linspace(-self.RES_FINT,0,np.round(self.RES_FINT/self.RES_DT))\n",
    "        for f in flashes:\n",
    "            #print td.seconds - f[3]   \n",
    "            temp = ( self.m.get_precip_at(f[0], coordinates.lat(), time_sampling_vector + f[3]) *\n",
    "                      self.m.get_longitude_scaling(f[0], f[1], coordinates.lon(), I0=f[2]) * self.RES_DT )\n",
    "            flux += np.sum(temp)\n",
    "            #print temp\n",
    "        \n",
    "        return flux"
   ]
  },
  {
   "cell_type": "code",
   "execution_count": 43,
   "metadata": {
    "collapsed": false
   },
   "outputs": [
    {
     "name": "stdout",
     "output_type": "stream",
     "text": [
      "0.00553127648018\n"
     ]
    }
   ],
   "source": [
    "GLD_root  = 'alex/array/home/Vaisala/feed_data/GLD'\n",
    "NLDN_root = 'alex/array/home/Vaisala/feed_data/NLDN'\n",
    "\n",
    "sat_TLE  = [\"1 40378U 15003C   15293.75287141  .00010129  00000-0  48835-3 0  9990\",\n",
    "            \"2 40378  99.1043 350.5299 0153633 201.4233 158.0516 15.09095095 39471\"]\n",
    "\n",
    "# Satellite object:\n",
    "sat = Satellite(sat_TLE[0], sat_TLE[1],'Firebird 4')\n",
    "\n",
    "# Measurement object:\n",
    "f = measurement_model(database = \"database_counts.pkl\")\n",
    "\n",
    "# ---- Do The Thing:\n",
    "inTime = \"2015-11-01T00:45:00\"\n",
    "plottime = datetime.datetime.strptime(inTime,  \"%Y-%m-%dT%H:%M:%S\")\n",
    "\n",
    "sat.compute(plottime)\n",
    "sat.coords.transform_to('geomagnetic')\n",
    "\n",
    "print f.get_measurement(plottime, sat.coords)\n",
    "\n"
   ]
  },
  {
   "cell_type": "code",
   "execution_count": 37,
   "metadata": {
    "collapsed": false
   },
   "outputs": [
    {
     "name": "stdout",
     "output_type": "stream",
     "text": [
      "0.05\n"
     ]
    }
   ],
   "source": [
    "print f.RES_DT\n"
   ]
  },
  {
   "cell_type": "code",
   "execution_count": null,
   "metadata": {
    "collapsed": false
   },
   "outputs": [],
   "source": [
    "# Input time\n",
    "\n",
    "inTime = \"2015-11-01T00:45:00\"\n",
    "td = datetime.timedelta(seconds = 60) # Maximum time back to check for lightning (pulse can be up to a minute! But how patient are we, really)\n",
    "plottime = datetime.datetime.strptime(inTime,  \"%Y-%m-%dT%H:%M:%S\")\n",
    "\n",
    "print plottime\n",
    "\n",
    "# Get satellite location\n",
    "sat.compute(plottime)\n",
    "sat.coords.transform_to('geomagnetic')\n",
    "\n",
    "# Flux modeler:\n",
    "m = precip_model(\"database_multiple.pkl\")\n",
    "\n",
    "# Get flashes within timeframe:\n",
    "flashes, flash_times = gld.load_flashes(plottime, td)\n",
    "flashes = flashes[:,(lat_ind, lon_ind, mag_ind, mag_ind)]\n",
    "flash_coords = transform_coords(flashes[:,0], flashes[:,1], np.zeros_like(flashes[:,0]), 'geographic', 'geomagnetic')\n",
    "flashes[:,:2] = flash_coords[:,:2]\n",
    "flashes[:,3] = [(plottime - s).microseconds*1e-6 + (plottime - s).seconds for s in flash_times]\n",
    "\n",
    "# scale_factors = np.array([m.get_longitude_scaling(f[0],f[1], sat.coords.lon(), db_scaling = True) for f in flashes])\n",
    "# print np.max(scale_factors)\n",
    "# plt.plot(scale_factors,marker='.')\n",
    "\n",
    "# # Mask out insignificant flashes:\n",
    "# mask = ( (np.abs(flashes[:,0]) > 10) &\n",
    "#          (np.abs(flashes[:,0]) < 60) &\n",
    "#          (scale_factors > -50)[:,0]\n",
    "#        )\n",
    "\n",
    "# masked_flashes = flashes[mask,:]\n",
    "# tmp = transform_coords(masked_flashes[:,0],\n",
    "#                        masked_flashes[:,1],\n",
    "#                        np.zeros(np.sum(mask)),'geomagnetic', 'geographic')\n",
    "# masked_flashes[:,0:2] = tmp[:,0:2]\n",
    "\n",
    "\n",
    "# So! No we have an array of relevant flashes -- lat, lon, mag, time offset.\n",
    "# Let's model the flux at the satellite.\n",
    "flux = 0\n",
    "time_sampling_vector = np.linspace(-10,0,10)\n",
    "for f in flashes:\n",
    "    #print td.seconds - f[3]   \n",
    "    temp = ( m.get_precip_at(f[0], sat.coords.lat(), time_sampling_vector + f[3]) *\n",
    "              m.get_longitude_scaling(f[0], f[1], sat.coords.lon(), I0=f[2]) )\n",
    "    flux += np.sum(temp)\n",
    "    #print temp\n",
    "print np.log10(flux)\n",
    "\n",
    "\n",
    "\n",
    "\n",
    "\n",
    "\n",
    "sat.coords.transform_to('geographic')\n",
    "\n",
    "# ------ Basemap Plot -------\n",
    "map = Basemap(projection='mill',lon_0=0)\n",
    "map.drawcoastlines()\n",
    "map.drawparallels(np.arange(-90,90,30),labels=[1,0,0,0])\n",
    "map.drawmeridians(np.arange(map.lonmin,map.lonmax+30,60),labels=[0,0,0,1])\n",
    "map.drawmapboundary(fill_color='b')\n",
    "map.fillcontinents(color='white',lake_color='b')\n",
    "\n",
    "x,y = map(masked_flashes[:,1], masked_flashes[:,0])\n",
    "sx,sy = map(sat.coords.lon(),sat.coords.lat())\n",
    "#mag = np.log2(abs(flashes[:,9]))\n",
    "points = map.plot(x,y,'ro',markeredgecolor=[1,0,0], markersize=2)[0]\n",
    "sats   = map.plot(sx,sy,'gx')[0]\n",
    "print plottime\n",
    "CS=map.nightshade(plottime,alpha=0.1)\n",
    "\n",
    "plt.title('GLD flashes, %s (UTC)\\nHold Time = %s sec' % (plottime, td.seconds))\n",
    "plt.draw()\n"
   ]
  }
 ],
 "metadata": {
  "kernelspec": {
   "display_name": "Python 2",
   "language": "python",
   "name": "python2"
  },
  "language_info": {
   "codemirror_mode": {
    "name": "ipython",
    "version": 2
   },
   "file_extension": ".py",
   "mimetype": "text/x-python",
   "name": "python",
   "nbconvert_exporter": "python",
   "pygments_lexer": "ipython2",
   "version": "2.7.10"
  }
 },
 "nbformat": 4,
 "nbformat_minor": 0
}
